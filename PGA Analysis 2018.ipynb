{
 "cells": [
  {
   "cell_type": "markdown",
   "metadata": {},
   "source": [
    "# 2018 PGA Tour Strokes Gained Analysis - Performance from different distance ranges"
   ]
  },
  {
   "cell_type": "markdown",
   "metadata": {},
   "source": [
    "Data is 2018 PGA Tour Shotlink data courtesy of PGA Tour ShotLink. Let's first read the data and modules:"
   ]
  },
  {
   "cell_type": "code",
   "execution_count": 69,
   "metadata": {},
   "outputs": [],
   "source": [
    "import pandas as pd\n",
    "import numpy as np\n",
    "\n",
    "data = pd.read_csv('data/rshot.csv', sep = ';', low_memory=False)\n"
   ]
  },
  {
   "cell_type": "code",
   "execution_count": 70,
   "metadata": {},
   "outputs": [
    {
     "data": {
      "text/plain": [
       "Index(['Tour Code', ' Tour Description', ' Year', ' Tourn.#', ' Player #',\n",
       "       ' Course #', ' Permanent Tournament #', ' Player First Name',\n",
       "       ' Player Last Name', ' Round', ' Tournament Name', 'Course Name',\n",
       "       ' Hole', ' Hole Score', ' Par Value', ' Yardage', '  Shot',\n",
       "       ' Shot Type(S/P/D)', '# of Strokes', ' From Location(Scorer)',\n",
       "       ' From Location(Enhanced)', ' To Location(Scorer)',\n",
       "       ' To Location(Enhanced)', ' Distance', ' Distance to Pin',\n",
       "       ' In the Hole Flag', ' Around the Green Flag', '1st Putt Flag',\n",
       "       ' Distance to Hole after the Shot', ' Time', ' Lie', ' Elevation',\n",
       "       ' Slope', ' X Coordinate', ' Y Coordinate', '  Z Coordinate',\n",
       "       ' Distance from Center', ' Distance from Edge', ' Date', ' Left/Right',\n",
       "       ' Strokes Gained/Baseline', ' Strokes Gained Category',\n",
       "       ' Recovery Shot'],\n",
       "      dtype='object')"
      ]
     },
     "execution_count": 70,
     "metadata": {},
     "output_type": "execute_result"
    }
   ],
   "source": [
    "data.columns"
   ]
  },
  {
   "cell_type": "markdown",
   "metadata": {},
   "source": [
    "A lot of the columns are not needed for this analysis, so we can remove them. We can also change the name of some of them:"
   ]
  },
  {
   "cell_type": "code",
   "execution_count": 71,
   "metadata": {},
   "outputs": [],
   "source": [
    "#Column renaming and cleanup\n",
    "data.columns = data.columns.str.replace(' ', '')\n",
    "data.columns = data.columns.str.replace('#', 'Nr')\n",
    "data.columns = data.columns.str.replace('.', '')\n",
    "data['player_name'] = data['PlayerFirstName'] + \" \" + data['PlayerLastName']\n",
    "data_cleaned = data.drop(['XCoordinate', 'YCoordinate', 'ZCoordinate', 'TourCode', \n",
    "                          'TournNr', 'CourseNr', 'PermanentTournamentNr', 'TourDescription', \n",
    "                          'Lie', 'Slope', 'Elevation', '1stPuttFlag', \n",
    "                          'Time', 'Date', 'Yardage', 'DistancefromEdge', 'DistancetoHoleaftertheShot', \n",
    "                          'DistancefromCenter', 'ToLocation(Scorer)', 'ToLocation(Enhanced)', 'HoleScore', 'ParValue', 'Left/Right',\n",
    "                          'PlayerFirstName', 'PlayerLastName', 'IntheHoleFlag', 'AroundtheGreenFlag', 'RecoveryShot', 'NrofStrokes'], axis=1)"
   ]
  },
  {
   "cell_type": "markdown",
   "metadata": {},
   "source": [
    "For this analysis we are only interested in approach shots, which only includes shots in categories Around the Green and Approach the green. We can thus remove the rest. We can also clean up shots which have no distance data, and tournaments which do not have data in the correct format."
   ]
  },
  {
   "cell_type": "code",
   "execution_count": 72,
   "metadata": {},
   "outputs": [
    {
     "data": {
      "text/html": [
       "<div>\n",
       "<style scoped>\n",
       "    .dataframe tbody tr th:only-of-type {\n",
       "        vertical-align: middle;\n",
       "    }\n",
       "\n",
       "    .dataframe tbody tr th {\n",
       "        vertical-align: top;\n",
       "    }\n",
       "\n",
       "    .dataframe thead th {\n",
       "        text-align: right;\n",
       "    }\n",
       "</style>\n",
       "<table border=\"1\" class=\"dataframe\">\n",
       "  <thead>\n",
       "    <tr style=\"text-align: right;\">\n",
       "      <th></th>\n",
       "      <th>Year</th>\n",
       "      <th>PlayerNr</th>\n",
       "      <th>Round</th>\n",
       "      <th>TournamentName</th>\n",
       "      <th>CourseName</th>\n",
       "      <th>Hole</th>\n",
       "      <th>Shot</th>\n",
       "      <th>Distance</th>\n",
       "      <th>DistancetoPin</th>\n",
       "      <th>StrokesGained/Baseline</th>\n",
       "      <th>player_name</th>\n",
       "      <th>DtP</th>\n",
       "      <th>FromLocation</th>\n",
       "    </tr>\n",
       "  </thead>\n",
       "  <tbody>\n",
       "    <tr>\n",
       "      <th>1</th>\n",
       "      <td>2018</td>\n",
       "      <td>1810</td>\n",
       "      <td>1</td>\n",
       "      <td>Safeway Open</td>\n",
       "      <td>Silverado Resort and Spa North</td>\n",
       "      <td>1</td>\n",
       "      <td>2</td>\n",
       "      <td>4824</td>\n",
       "      <td>4929</td>\n",
       "      <td>0.505</td>\n",
       "      <td>Phil Mickelson</td>\n",
       "      <td>137.0</td>\n",
       "      <td>Primary Rough</td>\n",
       "    </tr>\n",
       "    <tr>\n",
       "      <th>4</th>\n",
       "      <td>2018</td>\n",
       "      <td>1810</td>\n",
       "      <td>1</td>\n",
       "      <td>Safeway Open</td>\n",
       "      <td>Silverado Resort and Spa North</td>\n",
       "      <td>2</td>\n",
       "      <td>1</td>\n",
       "      <td>7128</td>\n",
       "      <td>7308</td>\n",
       "      <td>0.158</td>\n",
       "      <td>Phil Mickelson</td>\n",
       "      <td>203.0</td>\n",
       "      <td>Tee Box</td>\n",
       "    </tr>\n",
       "    <tr>\n",
       "      <th>8</th>\n",
       "      <td>2018</td>\n",
       "      <td>1810</td>\n",
       "      <td>1</td>\n",
       "      <td>Safeway Open</td>\n",
       "      <td>Silverado Resort and Spa North</td>\n",
       "      <td>3</td>\n",
       "      <td>2</td>\n",
       "      <td>4994</td>\n",
       "      <td>4917</td>\n",
       "      <td>0.143</td>\n",
       "      <td>Phil Mickelson</td>\n",
       "      <td>137.0</td>\n",
       "      <td>Fairway</td>\n",
       "    </tr>\n",
       "    <tr>\n",
       "      <th>12</th>\n",
       "      <td>2018</td>\n",
       "      <td>1810</td>\n",
       "      <td>1</td>\n",
       "      <td>Safeway Open</td>\n",
       "      <td>Silverado Resort and Spa North</td>\n",
       "      <td>4</td>\n",
       "      <td>2</td>\n",
       "      <td>4952</td>\n",
       "      <td>4740</td>\n",
       "      <td>0.225</td>\n",
       "      <td>Phil Mickelson</td>\n",
       "      <td>132.0</td>\n",
       "      <td>Fairway Bunker</td>\n",
       "    </tr>\n",
       "    <tr>\n",
       "      <th>16</th>\n",
       "      <td>2018</td>\n",
       "      <td>1810</td>\n",
       "      <td>1</td>\n",
       "      <td>Safeway Open</td>\n",
       "      <td>Silverado Resort and Spa North</td>\n",
       "      <td>5</td>\n",
       "      <td>2</td>\n",
       "      <td>7978</td>\n",
       "      <td>7645</td>\n",
       "      <td>0.499</td>\n",
       "      <td>Phil Mickelson</td>\n",
       "      <td>212.0</td>\n",
       "      <td>Primary Rough</td>\n",
       "    </tr>\n",
       "  </tbody>\n",
       "</table>\n",
       "</div>"
      ],
      "text/plain": [
       "    Year  PlayerNr  Round TournamentName                      CourseName  \\\n",
       "1   2018      1810      1   Safeway Open  Silverado Resort and Spa North   \n",
       "4   2018      1810      1   Safeway Open  Silverado Resort and Spa North   \n",
       "8   2018      1810      1   Safeway Open  Silverado Resort and Spa North   \n",
       "12  2018      1810      1   Safeway Open  Silverado Resort and Spa North   \n",
       "16  2018      1810      1   Safeway Open  Silverado Resort and Spa North   \n",
       "\n",
       "    Hole  Shot  Distance  DistancetoPin  StrokesGained/Baseline  \\\n",
       "1      1     2      4824           4929                   0.505   \n",
       "4      2     1      7128           7308                   0.158   \n",
       "8      3     2      4994           4917                   0.143   \n",
       "12     4     2      4952           4740                   0.225   \n",
       "16     5     2      7978           7645                   0.499   \n",
       "\n",
       "       player_name    DtP    FromLocation  \n",
       "1   Phil Mickelson  137.0   Primary Rough  \n",
       "4   Phil Mickelson  203.0         Tee Box  \n",
       "8   Phil Mickelson  137.0         Fairway  \n",
       "12  Phil Mickelson  132.0  Fairway Bunker  \n",
       "16  Phil Mickelson  212.0   Primary Rough  "
      ]
     },
     "execution_count": 72,
     "metadata": {},
     "output_type": "execute_result"
    }
   ],
   "source": [
    "#Create dummy categories for strokes gained category\n",
    "data_cleaned = pd.concat([data_cleaned,pd.get_dummies(data_cleaned['StrokesGainedCategory'] ) ], axis=1 )\n",
    "#Remove original category\n",
    "data_cleaned.drop('StrokesGainedCategory', axis=1, inplace=True)\n",
    "# Remove pair tournament with invalid data\n",
    "data_cleaned = data_cleaned[data_cleaned['TournamentName'] != 'Zurich Classic of New Orleans']\n",
    "#Remove match play tournament\n",
    "data_cleaned = data_cleaned[~data_cleaned['TournamentName'].str.contains('Match Play')]\n",
    "#Remove shots from rounds without distance data\n",
    "data_cleaned = data_cleaned[data_cleaned['DistancetoPin'] != 0]\n",
    "#Remove penalty and drop shots\n",
    "data_cleaned = data_cleaned[data_cleaned['ShotType(S/P/D)'] == 'S']\n",
    "data_cleaned.drop('ShotType(S/P/D)', axis=1, inplace=True)\n",
    "#Remove putting strokes\n",
    "data_cleaned = data_cleaned[data_cleaned['Putting'] != 1]\n",
    "#Remove strokes off the tee (excluding tee shots on par 3s and 3rd shots)\n",
    "data_cleaned = data_cleaned[data_cleaned['Off the Tee'] != 1]\n",
    "#Remove the stroke categories since we do not need them anymore\n",
    "data_cleaned.drop(['Putting', 'Around the Green', 'Approach the Green', 'Off the Tee'], axis = 1, inplace=True )\n",
    "#Convert from inches to yards\n",
    "data_cleaned['DtP'] = ( data_cleaned['DistancetoPin'] / 36 ).round(0) \n",
    "#Create new FromLocation category\n",
    "data_cleaned['FromLocation'] = np.where( data_cleaned['FromLocation(Scorer)'].isnull(), data_cleaned['FromLocation(Enhanced)'], data_cleaned['FromLocation(Scorer)'])\n",
    "#Remove the other columns\n",
    "data_cleaned.drop(['FromLocation(Scorer)', 'FromLocation(Enhanced)'], axis=1, inplace=True)\n",
    "data_cleaned.head()"
   ]
  },
  {
   "cell_type": "markdown",
   "metadata": {},
   "source": [
    "To categorize player performance in different categories, we must first define the distance ranges:\n",
    " - Define the distance tresholds. The last one will be everything longer than that distance\n",
    " - Give them a label\n",
    " - Categorize every shot into one of those labels"
   ]
  },
  {
   "cell_type": "code",
   "execution_count": 73,
   "metadata": {},
   "outputs": [],
   "source": [
    "#Create categories\n",
    "distances = [0, 50, 100, 140, 175, 200, 230 ]\n",
    "distance_categories = []\n",
    "\n",
    "#Place every shot into one category based on distance\n",
    "for i in range(0, len(distances) - 1):\n",
    "    cat_name = str(distances[i]) + \"-\" + str(distances[i+1]) \n",
    "    data_cleaned[cat_name] = ( data_cleaned['DtP'] >= distances[i] ) & ( data_cleaned['DtP'] < distances[i+1] )\n",
    "    distance_categories.append(cat_name)\n",
    "#Remaining shots (longer than 250)\n",
    "data_cleaned[ \">=\" + str(distances[-1]) ] = data_cleaned['DtP'] >= distances[-1] \n",
    "distance_categories.append(\">=\" + str(distances[-1]))\n",
    "\n",
    "#Create one column for category instead of multiple binary features\n",
    "data_cleaned['dist_cat'] = data_cleaned[distance_categories].idxmax(axis=1)\n",
    "#Drop old features\n",
    "data_cleaned.drop(distance_categories, axis=1, inplace=True)\n",
    "#For each tournament and round, take the average strokes gained per category to adjust for difficulty of course\n",
    "new_baseline =  data_cleaned.groupby(['TournamentName', 'dist_cat', 'Round']).mean()[['StrokesGained/Baseline']].reset_index(level=[0,2])\n",
    "#Rename column\n",
    "new_baseline.rename(index=str, columns={'StrokesGained/Baseline': 'new_baseline'}, inplace=True)\n",
    "#Merge with shot data\n",
    "data_cleaned_new = data_cleaned.merge(new_baseline, how='left', left_on=['TournamentName', 'Round', 'dist_cat'], right_on=['TournamentName', 'Round', 'dist_cat'])\n",
    "#Create normalied strokes gained per shot\n",
    "data_cleaned_new['adj_sg'] = data_cleaned_new['StrokesGained/Baseline'] - data_cleaned_new['new_baseline']\n"
   ]
  },
  {
   "cell_type": "markdown",
   "metadata": {},
   "source": [
    "Now that we have the adjusted strokes gained for each shot, we can get the mean for each player and category for the whole season:"
   ]
  },
  {
   "cell_type": "code",
   "execution_count": null,
   "metadata": {},
   "outputs": [],
   "source": [
    "#Create new dataframe with each players mean strokes gained per category over the season\n",
    "\n",
    "player_category_adj_sg = data_cleaned_new.groupby(['PlayerNr', 'player_name', 'dist_cat'])['adj_sg'].describe()\n",
    "player_category_adj_sg = player_category_adj_sg[['mean', 'count', 'std']].rename(index = str, columns={\"mean\": 'adj_sg', 'count': 'shot_count'})\n",
    "player_category_adj_sg['std_err'] = player_category_adj_sg['std'] / np.sqrt(player_category_adj_sg['shot_count'])\n",
    "player_category_adj_sg['95_conf_upp'] = 1.96*player_category_adj_sg['std_err'] + player_category_adj_sg['adj_sg']\n",
    "player_category_adj_sg['95_conf_low'] = -1.96*player_category_adj_sg['std_err'] + player_category_adj_sg['adj_sg']\n",
    "player_category_adj_sg.head()\n"
   ]
  },
  {
   "cell_type": "code",
   "execution_count": null,
   "metadata": {},
   "outputs": [],
   "source": [
    "#Restructure the dataframe\n",
    "player_category_adj_sg = player_category_adj_sg.unstack(level=-1).swaplevel(0,1,axis=1).sort_index(level=0, axis=1)\n",
    "player_category_adj_sg.head()"
   ]
  },
  {
   "cell_type": "code",
   "execution_count": null,
   "metadata": {},
   "outputs": [],
   "source": [
    "\n",
    "#Players for plot\n",
    "players = [\n",
    "          'Tiger Woods', \n",
    "          'Rory McIlroy', \n",
    "        #  'Jordan Spieth', \n",
    "          'Justin Thomas', \n",
    "          'Henrik Stenson', \n",
    "          #'Brooks Koepka',\n",
    "          #'Phil Mickelson',\n",
    "          #'Keegan Bradley',\n",
    "        #  'Dustin Johnson',\n",
    "          #'Jason Day'\n",
    "         # 'Bryson DeChambeau'\n",
    "          ]\n",
    "\n",
    "#For sorting the categories\n",
    "def getSortValue(category):\n",
    "    return distance_categories.index(category)\n",
    "\n",
    "\n",
    "\n",
    "\n"
   ]
  },
  {
   "cell_type": "code",
   "execution_count": null,
   "metadata": {},
   "outputs": [],
   "source": [
    "#Plotting\n",
    "import plotly.plotly as py\n",
    "import plotly\n",
    "import plotly.graph_objs as go\n",
    "\n",
    "\n",
    "plots = []\n",
    "for player in players:\n",
    "    playerdf = player_category_adj_sg[player_category_adj_sg.index.get_level_values('player_name') == player]\n",
    "    playerdf = playerdf.transpose().unstack(level=1)\n",
    "    playerdf.columns =  [ '95_up', '95_low', 'adj_sg', 'shot_count', 'std', 'std_err']\n",
    "    playerdf['cat_ind'] = pd.Series(playerdf.index.values).apply(getSortValue).values\n",
    "    playerdf = playerdf.sort_values('cat_ind')\n",
    "    pplot = go.Scatter (  \n",
    "        x = playerdf.index.values, \n",
    "        y = playerdf['adj_sg'].round(3), \n",
    "        name = player,\n",
    "        text =  \"Nr of shots: \" + playerdf['shot_count'].astype(int).astype(str),\n",
    "        error_y=dict(\n",
    "            type='data',\n",
    "            symmetric=True,\n",
    "            array=1.96*playerdf['std_err'],\n",
    "        )\n",
    "    )\n",
    "    plots.append(pplot)\n",
    "\n",
    "\n",
    "layout = {\"title\": \"Average strokes gained per shot in category\"}\n",
    "py.iplot({\"data\":plots, \"layout\": layout } )\n"
   ]
  },
  {
   "cell_type": "markdown",
   "metadata": {},
   "source": [
    "## Results\n",
    "First thing one notices here is that the errors bars representing the 95% confidence interval is very big. This leads us to believe that all of these results should be taken with a grain of salt due to the small sample size, but there are still a few interesting observations to make:\n",
    " - Tiger Woods was the best player on tour between 50 and 100 yards last season (see next table).\n",
    " - Justin Thomas, who had a great season, was dominating for shorter approach shots but fell off in the longer categories.\n",
    " - Henrik Stenson, the Swedish Iceman (I might be biased), is an absolute monster >175 yards while weaker at shorter distances. His legendary 3-wood had another impressive season judging by the >250 metric. \n",
    " - Rory McIlroy who had a relatively weak season was average across the board, perhaps poking hole in the theory that it is his wedge game which is pulling him down.\n",
    " \n",
    "We can also have a look at the best and worst players in each category:"
   ]
  },
  {
   "cell_type": "code",
   "execution_count": null,
   "metadata": {},
   "outputs": [],
   "source": [
    "max_player = pd.DataFrame( columns=['cat', 'player_name', 'adj_sg']) \n",
    "\n",
    "min_player = pd.DataFrame( columns=['cat', 'player_name', 'adj_sg'])\n",
    "\n",
    "for cat in distance_categories:\n",
    "    min_df = player_category_adj_sg[cat][player_category_adj_sg[cat]['shot_count'] > 30]\n",
    "    min_row = min_df.loc[[min_df['adj_sg'].idxmin(axis=0)]].reset_index()[['player_name', 'adj_sg']]\n",
    "    min_row['cat'] = cat\n",
    "    min_player = min_player.append(min_row, ignore_index=True, sort=False)\n",
    "    \n",
    "    max_df = player_category_adj_sg[cat][player_category_adj_sg[cat]['shot_count'] > 30]\n",
    "    max_row = max_df.loc[[max_df['adj_sg'].idxmax(axis=0)]].reset_index()[['player_name', 'adj_sg']]\n",
    "    max_row['cat'] = cat\n",
    "    max_player = max_player.append(max_row, ignore_index=True, sort=False)\n",
    "\n",
    "display(max_player)\n",
    "display(min_player)"
   ]
  },
  {
   "cell_type": "code",
   "execution_count": null,
   "metadata": {},
   "outputs": [],
   "source": [
    "player_category_adj_sg.to_csv('data/player_category_sg_2018')"
   ]
  },
  {
   "cell_type": "code",
   "execution_count": null,
   "metadata": {},
   "outputs": [],
   "source": []
  }
 ],
 "metadata": {
  "kernelspec": {
   "display_name": "Python 3",
   "language": "python",
   "name": "python3"
  },
  "language_info": {
   "codemirror_mode": {
    "name": "ipython",
    "version": 3
   },
   "file_extension": ".py",
   "mimetype": "text/x-python",
   "name": "python",
   "nbconvert_exporter": "python",
   "pygments_lexer": "ipython3",
   "version": "3.7.0"
  }
 },
 "nbformat": 4,
 "nbformat_minor": 2
}
